{
  "nbformat": 4,
  "nbformat_minor": 0,
  "metadata": {
    "colab": {
      "provenance": []
    },
    "kernelspec": {
      "name": "python3",
      "display_name": "Python 3"
    },
    "language_info": {
      "name": "python"
    }
  },
  "cells": [
    {
      "cell_type": "markdown",
      "source": [
        "### Importación de datos\n",
        "\n"
      ],
      "metadata": {
        "id": "RhEdWd9YUR6H"
      }
    },
    {
      "cell_type": "code",
      "execution_count": 18,
      "metadata": {
        "id": "T3EvaeQ_INIL"
      },
      "outputs": [],
      "source": [
        "from typing import Generator\n",
        "import pandas as pd\n",
        "\n",
        "datos_tienda = [\n",
        "\"https://raw.githubusercontent.com/alura-es-cursos/challenge1-data-science-latam/refs/heads/main/base-de-datos-challenge1-latam/tienda_1%20.csv\",\n",
        "\"https://raw.githubusercontent.com/alura-es-cursos/challenge1-data-science-latam/refs/heads/main/base-de-datos-challenge1-latam/tienda_2.csv\",\n",
        "\"https://raw.githubusercontent.com/alura-es-cursos/challenge1-data-science-latam/refs/heads/main/base-de-datos-challenge1-latam/tienda_3.csv\",\n",
        "\"https://raw.githubusercontent.com/alura-es-cursos/challenge1-data-science-latam/refs/heads/main/base-de-datos-challenge1-latam/tienda_4.csv\",\n",
        "]\n",
        "\n",
        "class Tienda:\n",
        "\n",
        "  def __init__(self, alias: str, data: str) -> None:\n",
        "    self.nombre = alias\n",
        "    self.df_reader = pd.read_csv(data)\n",
        "    self.df_reader[\"Fecha de Compra\"] = pd.to_datetime(self.df_reader[\"Fecha de Compra\"], format=\"%d/%m/%Y\")\n",
        "\n",
        "  def get_values(self, col: str) -> Generator:\n",
        "    for value in self.df_reader[col].to_list():\n",
        "      yield value\n",
        "\n",
        "  def ventas(self) -> float:\n",
        "    return round(self.df_reader[\"Precio\"].sum(), 2)\n",
        "\n",
        "  def categorías(self) -> dict:\n",
        "    # when using gruopby the values in the col become the labels for\n",
        "    # the row position in the new grouped table, with agg you can create custom\n",
        "    # rows with aliases and defined values similar to the aggragate method\n",
        "    # in django\n",
        "    name_alias = f\"total de ventas por categoría\"\n",
        "    # to_dict by default return values like {col: {index: value}}\n",
        "    return self.df_reader.groupby(\"Categoría del Producto\").agg(**{name_alias: (\"Producto\", \"count\")}).sort_values(by=name_alias, ascending=False).to_dict()\n",
        "\n",
        "  def valoración_promedio(self, col: str) -> float:\n",
        "    return round(self.df_reader[col].mean(), 2)\n",
        "\n",
        "  def más_y_menos_vendido(self) -> dict:\n",
        "    name_alias = f\"producto más vendido en {self.nombre}\"\n",
        "    grouped = self.df_reader.groupby(\"Producto\").agg(**{name_alias: (\"Precio\", \"count\")})\n",
        "    más = grouped[name_alias].idxmax()\n",
        "    menos = grouped[name_alias].idxmin()\n",
        "    return {\"más\": {\"producto\": más, \"cantidad\": grouped.loc[más, name_alias]},\n",
        "            \"menos\": {\"producto\": menos, \"cantidad\": grouped.loc[menos, name_alias]},\n",
        "            }\n",
        "  def ventas_por_año(self) -> dict:\n",
        "    new_df = pd.DataFrame(self.df_reader[\"Fecha de Compra\"].dt.year.tolist(),\n",
        "                          self.df_reader[\"Precio\"].tolist(), columns=[\"Precio\", \"Año de venta\"])\n",
        "    print(new_df)\n",
        "\n",
        "  def sumario(self) -> dict:\n",
        "    cantidad = self.más_y_menos_vendido()\n",
        "    return {\"tienda\": self.nombre, \"ventas\": self.ventas(),\n",
        "            \"categorías y sus ventas\": self.categorías(),\n",
        "            \"valoración promedio\": self.valoración_promedio(\"Calificación\"),\n",
        "            \"costo envio promedio\": self.valoración_promedio(\"Costo de envío\"),\n",
        "            \"item más vendido\": cantidad[\"más\"],\n",
        "            \"item menos vendido\": cantidad[\"menos\"]}\n",
        "\n",
        "names = [f\"tienda {i}\" for i in range(1,5)]\n",
        "resultados = []\n",
        "for nombre, datos in zip(names, datos_tienda):\n",
        "  resultados.append(Tienda(nombre, datos))\n",
        "\n"
      ]
    },
    {
      "cell_type": "markdown",
      "source": [
        "#1. Análisis de facturación\n",
        "\n"
      ],
      "metadata": {
        "id": "X62IW3KFUIYm"
      }
    },
    {
      "cell_type": "code",
      "source": [
        "# cantidades vendidas por cada tienda\n",
        "for tienda_ob in resultados:\n",
        "  print(tienda_ob.nombre, tienda_ob.ventas())\n",
        "\n"
      ],
      "metadata": {
        "id": "xykobSftV64I",
        "colab": {
          "base_uri": "https://localhost:8080/"
        },
        "outputId": "4fa4104f-cc70-450f-a7ee-b9131eb1d4f8"
      },
      "execution_count": null,
      "outputs": [
        {
          "output_type": "stream",
          "name": "stdout",
          "text": [
            "tienda 1 1150880400.0\n",
            "tienda 2 1116343500.0\n",
            "tienda 3 1098019600.0\n",
            "tienda 4 1038375700.0\n"
          ]
        }
      ]
    },
    {
      "cell_type": "code",
      "source": [],
      "metadata": {
        "id": "KDyr8E71V3m-"
      },
      "execution_count": null,
      "outputs": []
    },
    {
      "cell_type": "markdown",
      "source": [
        "# 2. Ventas por categoría"
      ],
      "metadata": {
        "id": "2V_vcAPzWZmR"
      }
    },
    {
      "cell_type": "code",
      "source": [
        "for tienda_ob in resultados:\n",
        "  print(tienda_ob.categorías())"
      ],
      "metadata": {
        "id": "A34YupIuYhfF",
        "colab": {
          "base_uri": "https://localhost:8080/"
        },
        "outputId": "b85f6142-6dbf-4f7d-c2d3-45289d16e77e"
      },
      "execution_count": null,
      "outputs": [
        {
          "output_type": "stream",
          "name": "stdout",
          "text": [
            "{'total de ventas por categoría': {'Muebles': 465, 'Electrónicos': 448, 'Juguetes': 324, 'Electrodomésticos': 312, 'Deportes y diversión': 284, 'Instrumentos musicales': 182, 'Libros': 173, 'Artículos para el hogar': 171}}\n",
            "{'total de ventas por categoría': {'Muebles': 442, 'Electrónicos': 422, 'Juguetes': 313, 'Electrodomésticos': 305, 'Deportes y diversión': 275, 'Instrumentos musicales': 224, 'Libros': 197, 'Artículos para el hogar': 181}}\n",
            "{'total de ventas por categoría': {'Muebles': 499, 'Electrónicos': 451, 'Juguetes': 315, 'Electrodomésticos': 278, 'Deportes y diversión': 277, 'Libros': 185, 'Artículos para el hogar': 177, 'Instrumentos musicales': 177}}\n",
            "{'total de ventas por categoría': {'Muebles': 480, 'Electrónicos': 451, 'Juguetes': 338, 'Deportes y diversión': 277, 'Electrodomésticos': 254, 'Artículos para el hogar': 201, 'Libros': 187, 'Instrumentos musicales': 170}}\n"
          ]
        }
      ]
    },
    {
      "cell_type": "code",
      "source": [],
      "metadata": {
        "id": "yZR6cOjXYSk1"
      },
      "execution_count": null,
      "outputs": []
    },
    {
      "cell_type": "markdown",
      "source": [
        "# 3. Calificación promedio de la tienda\n"
      ],
      "metadata": {
        "id": "Rq6tU_xSY3jk"
      }
    },
    {
      "cell_type": "code",
      "source": [
        "for tienda_ob in resultados:\n",
        "  print(tienda_ob.nombre, tienda_ob.valoración_promedio(\"Calificación\"))"
      ],
      "metadata": {
        "id": "bh3jjjJwY5MU",
        "colab": {
          "base_uri": "https://localhost:8080/"
        },
        "outputId": "fab72415-aa79-4c70-d323-310c5a3604c5"
      },
      "execution_count": 8,
      "outputs": [
        {
          "output_type": "stream",
          "name": "stdout",
          "text": [
            "tienda 1 3.98\n",
            "tienda 2 4.04\n",
            "tienda 3 4.05\n",
            "tienda 4 4.0\n"
          ]
        }
      ]
    },
    {
      "cell_type": "code",
      "source": [],
      "metadata": {
        "id": "I0KkjPoTY88F"
      },
      "execution_count": null,
      "outputs": []
    },
    {
      "cell_type": "markdown",
      "source": [
        "# 4. Productos más y menos vendidos"
      ],
      "metadata": {
        "id": "DmNp1KPBZCm-"
      }
    },
    {
      "cell_type": "code",
      "source": [
        "for tienda_ob in resultados:\n",
        "  print(tienda_ob.nombre, tienda_ob.más_y_menos_vendido())"
      ],
      "metadata": {
        "id": "qoyjqijQZHfF",
        "colab": {
          "base_uri": "https://localhost:8080/"
        },
        "outputId": "cc010b64-c861-4e30-9d85-bb0ad9be922c"
      },
      "execution_count": null,
      "outputs": [
        {
          "output_type": "stream",
          "name": "stdout",
          "text": [
            "tienda 1 {'más': {'producto': 'Armario', 'cantidad': np.int64(60)}, 'menos': {'producto': 'Auriculares con micrófono', 'cantidad': np.int64(33)}}\n",
            "tienda 2 {'más': {'producto': 'Iniciando en programación', 'cantidad': np.int64(65)}, 'menos': {'producto': 'Juego de mesa', 'cantidad': np.int64(32)}}\n",
            "tienda 3 {'más': {'producto': 'Kit de bancas', 'cantidad': np.int64(57)}, 'menos': {'producto': 'Bloques de construcción', 'cantidad': np.int64(35)}}\n",
            "tienda 4 {'más': {'producto': 'Cama box', 'cantidad': np.int64(62)}, 'menos': {'producto': 'Guitarra eléctrica', 'cantidad': np.int64(33)}}\n"
          ]
        }
      ]
    },
    {
      "cell_type": "code",
      "source": [],
      "metadata": {
        "id": "0Sw3sd4IZIGW"
      },
      "execution_count": null,
      "outputs": []
    },
    {
      "cell_type": "markdown",
      "source": [
        "# 5. Envío promedio por tienda"
      ],
      "metadata": {
        "id": "Fl0cGi3bZKqU"
      }
    },
    {
      "cell_type": "code",
      "source": [
        "for tienda_ob in resultados:\n",
        "  print(tienda_ob.nombre, tienda_ob.valoración_promedio(\"Costo de envío\"))"
      ],
      "metadata": {
        "id": "S2JeaCykZNy9",
        "colab": {
          "base_uri": "https://localhost:8080/"
        },
        "outputId": "16981f75-5e74-4140-beac-4a8000f6a1b3"
      },
      "execution_count": null,
      "outputs": [
        {
          "output_type": "stream",
          "name": "stdout",
          "text": [
            "tienda 1 26018.61\n",
            "tienda 2 25216.24\n",
            "tienda 3 24805.68\n",
            "tienda 4 23459.46\n"
          ]
        }
      ]
    },
    {
      "cell_type": "markdown",
      "source": [
        "# 6. Ventas por año"
      ],
      "metadata": {
        "id": "uT2qkXnFMKpn"
      }
    },
    {
      "cell_type": "code",
      "source": [
        "resultados[0].ventas_por_año()"
      ],
      "metadata": {
        "id": "0tSdCie9ZQlt",
        "outputId": "58ec49d5-eec7-4cc1-e5f9-ad0b51f807a7",
        "colab": {
          "base_uri": "https://localhost:8080/"
        }
      },
      "execution_count": 19,
      "outputs": [
        {
          "output_type": "stream",
          "name": "stdout",
          "text": [
            "              0\n",
            "164300.0   2021\n",
            "192300.0   2022\n",
            "209600.0   2021\n",
            "757500.0   2022\n",
            "335200.0   2020\n",
            "...         ...\n",
            "1284400.0  2021\n",
            "282800.0   2023\n",
            "122900.0   2021\n",
            "691300.0   2022\n",
            "195000.0   2022\n",
            "\n",
            "[2359 rows x 1 columns]\n"
          ]
        }
      ]
    },
    {
      "cell_type": "markdown",
      "source": [
        "# 7. Graficos"
      ],
      "metadata": {
        "id": "9au4x0Ztfn-Q"
      }
    },
    {
      "cell_type": "code",
      "source": [
        "import matplotlib.pyplot as plt\n",
        "# ventas\n",
        "ventas = [float(item.ventas()) for item in resultados]\n",
        "nombres = [item.nombre for item in resultados]\n",
        "colores = [\"blue\", \"red\", \"green\", \"yellow\"]\n",
        "plt.bar(nombres, ventas, color=colores)\n",
        "plt.yscale(\"log\")\n",
        "for count, item in enumerate(ventas):\n",
        "  plt.text(count, item, f\"{item:,}\", ha='center', va='bottom')\n",
        "plt.title(\"ventas\")\n",
        "plt.ylabel(\"ventas durante el periodo\")\n",
        "plt.xlabel(\"listado de tiendas\")\n",
        "plt.show()\n",
        "\n",
        "# extra\n"
      ],
      "metadata": {
        "colab": {
          "base_uri": "https://localhost:8080/",
          "height": 472
        },
        "id": "9pnkgP-HfxDf",
        "outputId": "cce80b13-8c9f-46d9-fd6f-adabc944564b"
      },
      "execution_count": null,
      "outputs": [
        {
          "output_type": "display_data",
          "data": {
            "text/plain": [
              "<Figure size 640x480 with 1 Axes>"
            ],
            "image/png": "[encoded data removed]"
          },
          "metadata": {}
        }
      ]
    },
    {
      "cell_type": "code",
      "source": [
        "import matplotlib.pyplot as plt\n",
        "\n",
        "# Data provided\n",
        "data = \"\"\"\n",
        "store 1 1150880400.0\n",
        "store 2 1116343500.0\n",
        "store 3 1098019600.0\n",
        "store 4 1038375700.0\n",
        "\"\"\"\n",
        "\n",
        "# Parse the data\n",
        "stores = []\n",
        "values = []\n",
        "for line in data.strip().split('\\n'):\n",
        "    parts = line.split()\n",
        "    stores.append(parts[0] + \" \" + parts[1])  # Store name\n",
        "    values.append(float(parts[2]))  # Store value\n",
        "\n",
        "# Calculate the percentage of each value in relation to the total sum of all values.\n",
        "total_value = sum(values)\n",
        "percentages = [value / total_value * 100 for value in values]\n",
        "\n",
        "# Create the pie chart\n",
        "plt.figure(figsize=(8, 6))  # Adjust the figure size as needed.\n",
        "plt.pie(values, labels=None, autopct='%1.1f%%', startangle=90, colors=['skyblue', 'lightgreen', 'lightcoral', 'lightyellow'])\n",
        "\n",
        "# Add a title to the chart\n",
        "plt.title('Store Distribution')\n",
        "\n",
        "# Create a legend with store names and percentages\n",
        "legend_labels = [f'{store} ({percentage:.1f}%)' for store, percentage in zip(stores, percentages)]\n",
        "plt.legend(legend_labels, loc='upper left', bbox_to_anchor=(1, 1))\n",
        "\n",
        "# Ensure the circle's proportion is maintained\n",
        "plt.axis('equal')\n",
        "\n",
        "# Display the chart\n",
        "plt.show()"
      ],
      "metadata": {
        "id": "fFUv_4LjL4Pw",
        "outputId": "77ab04c3-f3f2-4794-961a-868bd6fcdba6",
        "colab": {
          "base_uri": "https://localhost:8080/",
          "height": 521
        }
      },
      "execution_count": 1,
      "outputs": [
        {
          "output_type": "display_data",
          "data": {
            "text/plain": [
              "<Figure size 800x600 with 1 Axes>"
            ],
            "image/png": "[encoded data removed]"
          },
          "metadata": {}
        }
      ]
    }
  ]
}