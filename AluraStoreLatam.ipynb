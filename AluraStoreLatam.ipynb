{
  "nbformat": 4,
  "nbformat_minor": 0,
  "metadata": {
    "colab": {
      "provenance": []
    },
    "kernelspec": {
      "name": "python3",
      "display_name": "Python 3"
    },
    "language_info": {
      "name": "python"
    }
  },
  "cells": [
    {
      "cell_type": "markdown",
      "source": [
        "### Importación de datos\n",
        "\n"
      ],
      "metadata": {
        "id": "RhEdWd9YUR6H"
      }
    },
    {
      "cell_type": "code",
      "execution_count": 15,
      "metadata": {
        "id": "T3EvaeQ_INIL"
      },
      "outputs": [],
      "source": [
        "import pandas as pd\n",
        "\n",
        "datos_tienda = [\n",
        "\"https://raw.githubusercontent.com/alura-es-cursos/challenge1-data-science-latam/refs/heads/main/base-de-datos-challenge1-latam/tienda_1%20.csv\",\n",
        "\"https://raw.githubusercontent.com/alura-es-cursos/challenge1-data-science-latam/refs/heads/main/base-de-datos-challenge1-latam/tienda_2.csv\",\n",
        "\"https://raw.githubusercontent.com/alura-es-cursos/challenge1-data-science-latam/refs/heads/main/base-de-datos-challenge1-latam/tienda_3.csv\",\n",
        "\"https://raw.githubusercontent.com/alura-es-cursos/challenge1-data-science-latam/refs/heads/main/base-de-datos-challenge1-latam/tienda_4.csv\",\n",
        "]\n",
        "\n",
        "class Tienda:\n",
        "\n",
        "  def __init__(self, alias: str, data: str) -> None:\n",
        "    self.nombre = alias\n",
        "    self.df_reader = pd.read_csv(data)\n",
        "\n",
        "  def get_values(self, col: str) -> list:\n",
        "    return self.df_reader[col].to_list()\n",
        "\n",
        "  def ventas(self) -> float:\n",
        "    return round(self.df_reader[\"Precio\"].sum(), 2)\n",
        "\n",
        "  def categorías(self) -> dict:\n",
        "    # when using gruopby the values in the col become the labels for\n",
        "    # the row position in the new grouped table, with agg you can create custom\n",
        "    # rows with aliases and defined values similar to the aggragate method\n",
        "    # in django\n",
        "    name_alias = f\"total de ventas por categoría\"\n",
        "    # to_dict by default return values like {col: {index: value}}\n",
        "    return self.df_reader.groupby(\"Categoría del Producto\").agg(**{name_alias: (\"Producto\", \"count\")}).sort_values(by=name_alias, ascending=False).to_dict()\n",
        "\n",
        "  def valoración_promedio(self) -> float:\n",
        "    return round(self.df_reader[\"Calificación\"].mean(), 2)\n",
        "\n",
        "  def costo_envio_promedio(self) -> float:\n",
        "    return round(self.df_reader[\"Costo de envío\"].mean(), 2)\n",
        "\n",
        "  def más_y_menos_vendido(self) -> dict:\n",
        "    name_alias = f\"producto más vendido en {self.nombre}\"\n",
        "    grouped = self.df_reader.groupby(\"Producto\").agg(**{name_alias: (\"Precio\", \"count\")})\n",
        "    más = grouped[name_alias].idxmax()\n",
        "    menos = grouped[name_alias].idxmin()\n",
        "    return {\"más\": {\"producto\": más, \"cantidad\": grouped.loc[más, name_alias]},\n",
        "            \"menos\": {\"producto\": menos, \"cantidad\": grouped.loc[menos, name_alias]},\n",
        "            }\n",
        "\n",
        "  def sumario(self) -> dict:\n",
        "    cantidad = self.más_y_menos_vendido()\n",
        "    return {\"tienda\": self.nombre, \"ventas\": self.ventas(),\n",
        "            \"categorías y sus ventas\": self.categorías(),\n",
        "            \"valoración promedio\": self.valoración_promedio(),\n",
        "            \"costo envio promedio\": self.costo_envio_promedio(),\n",
        "            \"item más vendido\": cantidad[\"más\"],\n",
        "            \"item menos vendido\": cantidad[\"menos\"]}\n",
        "\n",
        "names = [f\"tienda {i}\" for i in range(1,5)]\n",
        "resultados = []\n",
        "for nombre, datos in zip(names, datos_tienda):\n",
        "  resultados.append(Tienda(nombre, datos))\n",
        "\n"
      ]
    },
    {
      "cell_type": "markdown",
      "source": [
        "#1. Análisis de facturación\n",
        "\n"
      ],
      "metadata": {
        "id": "X62IW3KFUIYm"
      }
    },
    {
      "cell_type": "code",
      "source": [
        "# cantidades vendidas por cada tienda\n",
        "for tienda_ob in resultados:\n",
        "  print(tienda_ob.nombre, tienda_ob.ventas())\n",
        "\n"
      ],
      "metadata": {
        "id": "xykobSftV64I",
        "colab": {
          "base_uri": "https://localhost:8080/"
        },
        "outputId": "9ddf4b5e-938c-44e5-bfc5-6cdd81a62e3d"
      },
      "execution_count": 16,
      "outputs": [
        {
          "output_type": "stream",
          "name": "stdout",
          "text": [
            "tienda 1 1150880400.0\n",
            "tienda 2 1116343500.0\n",
            "tienda 3 1098019600.0\n",
            "tienda 4 1038375700.0\n"
          ]
        }
      ]
    },
    {
      "cell_type": "code",
      "source": [],
      "metadata": {
        "id": "KDyr8E71V3m-"
      },
      "execution_count": 16,
      "outputs": []
    },
    {
      "cell_type": "markdown",
      "source": [
        "# 2. Ventas por categoría"
      ],
      "metadata": {
        "id": "2V_vcAPzWZmR"
      }
    },
    {
      "cell_type": "code",
      "source": [
        "for tienda_ob in resultados:\n",
        "  print(tienda_ob.categorías())"
      ],
      "metadata": {
        "id": "A34YupIuYhfF",
        "colab": {
          "base_uri": "https://localhost:8080/"
        },
        "outputId": "b12245cf-f58c-4b3c-c65b-7b7f93386008"
      },
      "execution_count": 17,
      "outputs": [
        {
          "output_type": "stream",
          "name": "stdout",
          "text": [
            "{'total de ventas por categoría': {'Muebles': 465, 'Electrónicos': 448, 'Juguetes': 324, 'Electrodomésticos': 312, 'Deportes y diversión': 284, 'Instrumentos musicales': 182, 'Libros': 173, 'Artículos para el hogar': 171}}\n",
            "{'total de ventas por categoría': {'Muebles': 442, 'Electrónicos': 422, 'Juguetes': 313, 'Electrodomésticos': 305, 'Deportes y diversión': 275, 'Instrumentos musicales': 224, 'Libros': 197, 'Artículos para el hogar': 181}}\n",
            "{'total de ventas por categoría': {'Muebles': 499, 'Electrónicos': 451, 'Juguetes': 315, 'Electrodomésticos': 278, 'Deportes y diversión': 277, 'Libros': 185, 'Artículos para el hogar': 177, 'Instrumentos musicales': 177}}\n",
            "{'total de ventas por categoría': {'Muebles': 480, 'Electrónicos': 451, 'Juguetes': 338, 'Deportes y diversión': 277, 'Electrodomésticos': 254, 'Artículos para el hogar': 201, 'Libros': 187, 'Instrumentos musicales': 170}}\n"
          ]
        }
      ]
    },
    {
      "cell_type": "code",
      "source": [],
      "metadata": {
        "id": "yZR6cOjXYSk1"
      },
      "execution_count": null,
      "outputs": []
    },
    {
      "cell_type": "markdown",
      "source": [
        "# 3. Calificación promedio de la tienda\n"
      ],
      "metadata": {
        "id": "Rq6tU_xSY3jk"
      }
    },
    {
      "cell_type": "code",
      "source": [
        "for tienda_ob in resultados:\n",
        "  print(tienda_ob.nombre, tienda_ob.valoración_promedio())"
      ],
      "metadata": {
        "id": "bh3jjjJwY5MU",
        "colab": {
          "base_uri": "https://localhost:8080/"
        },
        "outputId": "71e47d82-a41a-4a9c-ea5a-45ee0c9f390c"
      },
      "execution_count": 18,
      "outputs": [
        {
          "output_type": "stream",
          "name": "stdout",
          "text": [
            "tienda 1 3.98\n",
            "tienda 2 4.04\n",
            "tienda 3 4.05\n",
            "tienda 4 4.0\n"
          ]
        }
      ]
    },
    {
      "cell_type": "code",
      "source": [],
      "metadata": {
        "id": "I0KkjPoTY88F"
      },
      "execution_count": null,
      "outputs": []
    },
    {
      "cell_type": "markdown",
      "source": [
        "# 4. Productos más y menos vendidos"
      ],
      "metadata": {
        "id": "DmNp1KPBZCm-"
      }
    },
    {
      "cell_type": "code",
      "source": [
        "for tienda_ob in resultados:\n",
        "  print(tienda_ob.nombre, tienda_ob.más_y_menos_vendido())"
      ],
      "metadata": {
        "id": "qoyjqijQZHfF",
        "colab": {
          "base_uri": "https://localhost:8080/"
        },
        "outputId": "cc010b64-c861-4e30-9d85-bb0ad9be922c"
      },
      "execution_count": 19,
      "outputs": [
        {
          "output_type": "stream",
          "name": "stdout",
          "text": [
            "tienda 1 {'más': {'producto': 'Armario', 'cantidad': np.int64(60)}, 'menos': {'producto': 'Auriculares con micrófono', 'cantidad': np.int64(33)}}\n",
            "tienda 2 {'más': {'producto': 'Iniciando en programación', 'cantidad': np.int64(65)}, 'menos': {'producto': 'Juego de mesa', 'cantidad': np.int64(32)}}\n",
            "tienda 3 {'más': {'producto': 'Kit de bancas', 'cantidad': np.int64(57)}, 'menos': {'producto': 'Bloques de construcción', 'cantidad': np.int64(35)}}\n",
            "tienda 4 {'más': {'producto': 'Cama box', 'cantidad': np.int64(62)}, 'menos': {'producto': 'Guitarra eléctrica', 'cantidad': np.int64(33)}}\n"
          ]
        }
      ]
    },
    {
      "cell_type": "code",
      "source": [],
      "metadata": {
        "id": "0Sw3sd4IZIGW"
      },
      "execution_count": null,
      "outputs": []
    },
    {
      "cell_type": "markdown",
      "source": [
        "# 5. Envío promedio por tienda"
      ],
      "metadata": {
        "id": "Fl0cGi3bZKqU"
      }
    },
    {
      "cell_type": "code",
      "source": [
        "for tienda_ob in resultados:\n",
        "  print(tienda_ob.nombre, tienda_ob.costo_envio_promedio())"
      ],
      "metadata": {
        "id": "S2JeaCykZNy9",
        "colab": {
          "base_uri": "https://localhost:8080/"
        },
        "outputId": "697e0ec9-ec69-4157-be25-dbf3583aa96a"
      },
      "execution_count": 20,
      "outputs": [
        {
          "output_type": "stream",
          "name": "stdout",
          "text": [
            "tienda 1 26018.61\n",
            "tienda 2 25216.24\n",
            "tienda 3 24805.68\n",
            "tienda 4 23459.46\n"
          ]
        }
      ]
    },
    {
      "cell_type": "code",
      "source": [],
      "metadata": {
        "id": "0tSdCie9ZQlt",
        "colab": {
          "base_uri": "https://localhost:8080/"
        },
        "outputId": "d4d94281-357c-4ad8-f89c-aa05843c43a8"
      },
      "execution_count": 5,
      "outputs": [
        {
          "output_type": "stream",
          "name": "stdout",
          "text": [
            "{'tienda': 'tienda 1', 'ventas': np.float64(1150880400.0), 'categorías y sus ventas': {'total de ventas por categoría': {'Muebles': 465, 'Electrónicos': 448, 'Juguetes': 324, 'Electrodomésticos': 312, 'Deportes y diversión': 284, 'Instrumentos musicales': 182, 'Libros': 173, 'Artículos para el hogar': 171}}, 'valoración promedio': np.float64(3.98), 'costo envio promedio': np.float64(26018.61), 'item más vendido': {'producto': 'Armario', 'cantidad': np.int64(60)}, 'item menos vendido': {'producto': 'Auriculares con micrófono', 'cantidad': np.int64(33)}}\n",
            "{'tienda': 'tienda 2', 'ventas': np.float64(1116343500.0), 'categorías y sus ventas': {'total de ventas por categoría': {'Muebles': 442, 'Electrónicos': 422, 'Juguetes': 313, 'Electrodomésticos': 305, 'Deportes y diversión': 275, 'Instrumentos musicales': 224, 'Libros': 197, 'Artículos para el hogar': 181}}, 'valoración promedio': np.float64(4.04), 'costo envio promedio': np.float64(25216.24), 'item más vendido': {'producto': 'Iniciando en programación', 'cantidad': np.int64(65)}, 'item menos vendido': {'producto': 'Juego de mesa', 'cantidad': np.int64(32)}}\n",
            "{'tienda': 'tienda 3', 'ventas': np.float64(1098019600.0), 'categorías y sus ventas': {'total de ventas por categoría': {'Muebles': 499, 'Electrónicos': 451, 'Juguetes': 315, 'Electrodomésticos': 278, 'Deportes y diversión': 277, 'Libros': 185, 'Artículos para el hogar': 177, 'Instrumentos musicales': 177}}, 'valoración promedio': np.float64(4.05), 'costo envio promedio': np.float64(24805.68), 'item más vendido': {'producto': 'Kit de bancas', 'cantidad': np.int64(57)}, 'item menos vendido': {'producto': 'Bloques de construcción', 'cantidad': np.int64(35)}}\n",
            "{'tienda': 'tienda 4', 'ventas': np.float64(1038375700.0), 'categorías y sus ventas': {'total de ventas por categoría': {'Muebles': 480, 'Electrónicos': 451, 'Juguetes': 338, 'Deportes y diversión': 277, 'Electrodomésticos': 254, 'Artículos para el hogar': 201, 'Libros': 187, 'Instrumentos musicales': 170}}, 'valoración promedio': np.float64(4.0), 'costo envio promedio': np.float64(23459.46), 'item más vendido': {'producto': 'Cama box', 'cantidad': np.int64(62)}, 'item menos vendido': {'producto': 'Guitarra eléctrica', 'cantidad': np.int64(33)}}\n"
          ]
        }
      ]
    },
    {
      "cell_type": "markdown",
      "source": [
        "# 6. Graficos"
      ],
      "metadata": {
        "id": "9au4x0Ztfn-Q"
      }
    },
    {
      "cell_type": "code",
      "source": [
        "import matplotlib.pyplot as plt\n",
        "# ventas\n",
        "ventas = [float(item.ventas()) for item in resultados]\n",
        "nombres = [item.nombre for item in resultados]\n",
        "colores = [\"blue\", \"red\", \"green\", \"yellow\"]\n",
        "plt.bar(nombres, ventas, color=colores)\n",
        "plt.yscale(\"linear\")\n",
        "for count, item in enumerate(ventas):\n",
        "  plt.text(count, item, f\"{item:,}\", ha='center', va='bottom')\n",
        "plt.title(\"ventas\")\n",
        "plt.show()"
      ],
      "metadata": {
        "colab": {
          "base_uri": "https://localhost:8080/",
          "height": 452
        },
        "id": "9pnkgP-HfxDf",
        "outputId": "61a53931-2fc0-4ac8-a973-2549b2036e4f"
      },
      "execution_count": 38,
      "outputs": [
        {
          "output_type": "display_data",
          "data": {
            "text/plain": [
              "<Figure size 640x480 with 1 Axes>"
            ],
            "image/png": "[encoded data removed]"
          },
          "metadata": {}
        }
      ]
    }
  ]
}